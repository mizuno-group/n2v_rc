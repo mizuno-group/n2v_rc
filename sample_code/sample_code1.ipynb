{
 "cells": [
  {
   "cell_type": "markdown",
   "metadata": {},
   "source": [
    "# ■ Sample Code to handle 'vectorization.py'\n",
    "## transform network structure to d-dimensional vectors using node2vec"
   ]
  },
  {
   "cell_type": "code",
   "execution_count": 1,
   "metadata": {},
   "outputs": [
    {
     "name": "stderr",
     "output_type": "stream",
     "text": [
      "C:\\Users\\Mizu2020\\piphazuma\\lib\\site-packages\\gensim\\similarities\\__init__.py:15: UserWarning: The gensim.similarities.levenshtein submodule is disabled, because the optional Levenshtein package <https://pypi.org/project/python-Levenshtein/> is unavailable. Install Levenhstein (e.g. `pip install python-Levenshtein`) to suppress this warning.\n",
      "  warnings.warn(msg)\n"
     ]
    }
   ],
   "source": [
    "import sys\n",
    "sys.path.append(\"C:/github/Node2Vec_Recursive_Clustering\") # path for package\n",
    "from node2vec_recursive_clustering import vectorization"
   ]
  },
  {
   "cell_type": "code",
   "execution_count": 2,
   "metadata": {},
   "outputs": [
    {
     "name": "stdout",
     "output_type": "stream",
     "text": [
      "network node number : 12436\n",
      "network edge number : 31895\n"
     ]
    }
   ],
   "source": [
    "import networkx as nx\n",
    "# load netwrork\n",
    "g = nx.read_gpickle('C:/github/Node2Vec_Recursive_Clustering/sample_data/sample_cor.gpickle')\n",
    "print(\"network node number :\", len(g.nodes()))\n",
    "print(\"network edge number :\", len(g.edges()))"
   ]
  },
  {
   "cell_type": "code",
   "execution_count": 3,
   "metadata": {},
   "outputs": [
    {
     "name": "stdout",
     "output_type": "stream",
     "text": [
      "use these parameter\n",
      "{'dimensions': 128, 'walk_length': 100, 'num_walks': 20, 'p': 1, 'q': 1, 'workers': 4}\n",
      "{'window': 15, 'min_count': 1, 'sg': 1}\n"
     ]
    }
   ],
   "source": [
    "vec = vectorization.Vectorization()\n",
    "\n",
    "# set network\n",
    "vec.setg(g)\n",
    "\n",
    "# set parameter\n",
    "vec.set_parameter(dimensions=128,walk_length=100,num_walks=20,p=1,q=1,workers=4,window=15,min_count=1,sg=1)"
   ]
  },
  {
   "cell_type": "code",
   "execution_count": 4,
   "metadata": {},
   "outputs": [
    {
     "name": "stderr",
     "output_type": "stream",
     "text": [
      "Computing transition probabilities: 100%|██████████| 12436/12436 [00:02<00:00, 5913.01it/s]\n"
     ]
    }
   ],
   "source": [
    "# conduct node2vec algorithm and transform to d-diimensional vectors\n",
    "vec.conduct_vectorization()"
   ]
  },
  {
   "cell_type": "code",
   "execution_count": 5,
   "metadata": {},
   "outputs": [
    {
     "name": "stdout",
     "output_type": "stream",
     "text": [
      "              0         1         2         3         4         5         6    \\\n",
      "CYP2A7  -0.102195 -0.068595  0.056728  0.061543 -0.163382 -0.131075 -0.025478   \n",
      "DHX30    0.005490  0.029551  0.064026  0.026062  0.009784 -0.005893 -0.076028   \n",
      "CYP2C9  -0.043446 -0.138110  0.002081  0.014692 -0.006275 -0.080681  0.037113   \n",
      "A1CF    -0.126286 -0.082969  0.175221  0.059786 -0.172310 -0.116564 -0.005335   \n",
      "ATP6V0C -0.132359 -0.134761  0.131648  0.037842  0.120529 -0.017112 -0.157079   \n",
      "\n",
      "              7         8         9    ...       118       119       120  \\\n",
      "CYP2A7   0.077374 -0.122881 -0.093480  ... -0.055880 -0.101719  0.015534   \n",
      "DHX30   -0.046683  0.172543  0.015083  ... -0.023137  0.100646 -0.061330   \n",
      "CYP2C9  -0.039353 -0.142769  0.026232  ... -0.004947 -0.033306 -0.113483   \n",
      "A1CF     0.081715  0.030027 -0.055752  ...  0.045537 -0.042091  0.033190   \n",
      "ATP6V0C  0.053911 -0.045503 -0.075340  ... -0.037467  0.135789 -0.132957   \n",
      "\n",
      "              121       122       123       124       125       126       127  \n",
      "CYP2A7  -0.069349  0.119113 -0.129552 -0.059926 -0.109099 -0.062038 -0.081488  \n",
      "DHX30    0.004993  0.076810 -0.113308 -0.070442 -0.152974 -0.096133 -0.089748  \n",
      "CYP2C9  -0.086096 -0.007960 -0.047218 -0.103237  0.011931 -0.005346 -0.056639  \n",
      "A1CF     0.021204  0.147708 -0.036570 -0.063388 -0.158549 -0.078582 -0.145459  \n",
      "ATP6V0C -0.054896 -0.075466  0.027782  0.084504 -0.250672  0.007191 -0.109110  \n",
      "\n",
      "[5 rows x 128 columns]\n"
     ]
    }
   ],
   "source": [
    "# obtain d-dimensional vectors\n",
    "vec_df = vec.get_vec()\n",
    "print(vec_df.head())"
   ]
  },
  {
   "cell_type": "code",
   "execution_count": 6,
   "metadata": {},
   "outputs": [],
   "source": [
    "# save result\n",
    "vec_df.to_csv('C:/github/Node2Vec_Recursive_Clustering/sample_data/sample_vec_df.csv')"
   ]
  }
 ],
 "metadata": {
  "interpreter": {
   "hash": "c329a83b8dc28d62d9655b6031da57a64cf8fa549c5c716250ecec41603fec8a"
  },
  "kernelspec": {
   "display_name": "Python 3.8.10 64-bit ('piphazuma': venv)",
   "name": "python3"
  },
  "language_info": {
   "codemirror_mode": {
    "name": "ipython",
    "version": 3
   },
   "file_extension": ".py",
   "mimetype": "text/x-python",
   "name": "python",
   "nbconvert_exporter": "python",
   "pygments_lexer": "ipython3",
   "version": "3.8.10"
  },
  "orig_nbformat": 4
 },
 "nbformat": 4,
 "nbformat_minor": 2
}
